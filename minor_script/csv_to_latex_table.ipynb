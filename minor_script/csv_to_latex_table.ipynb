{
 "cells": [
  {
   "cell_type": "code",
   "execution_count": 9,
   "metadata": {},
   "outputs": [],
   "source": [
    "import pandas as pd, os, glob, re, statistics as stat, numpy as np\n",
    "def isfloat(num):\n",
    "    try:\n",
    "        float(num)\n",
    "        return True\n",
    "    except ValueError:\n",
    "        return False\n"
   ]
  },
  {
   "cell_type": "code",
   "execution_count": 10,
   "metadata": {},
   "outputs": [],
   "source": [
    "def latexify(data, column_names, caption=\"none\", label=\"none\", adjust_box=False, rotate=False):\n",
    "    table = \"\"\n",
    "    table += f\"\\\\begin{{table}}[h!]\\n\"\n",
    "    table += f\"    \\centering\\n\"\n",
    "    if adjust_box:\n",
    "        angle = \"\"\n",
    "        if rotate:\n",
    "            angle = \", angle=90\"\n",
    "        table += f\"    \\\\begin{{adjustbox}}{{max width=\\\\textwidth{angle}}}\\n\"\n",
    "    # no. of columns\n",
    "    columns = \"\".join([\" c \" for x in range(len(data[0]))])\n",
    "    table += f\"    \\\\begin{{tabular}}{{{columns}}}\\n\"\n",
    "    # column names\n",
    "    table += f\"    \\\\toprule\\n\"\n",
    "    temp = \" & \".join([str(x) for x in column_names])\n",
    "    table += f\"    {temp} \\\\\\\\\\n\"\n",
    "    table += f\"    \\midrule\\n\"\n",
    "    #data\n",
    "    for i in range(len(data)):\n",
    "        temp = \" & \".join([str(data[i][x]) for x in range(len(data[i]))])\n",
    "        table += f\"    {temp} \\\\\\\\\\n\"\n",
    "    table += f\"    \\\\bottomrule\\n\"\n",
    "    table += f\"    \\end{{tabular}}\\n\"\n",
    "    if adjust_box:\n",
    "        table+=f\"    \\end{{adjustbox}}\\n\"\n",
    "    table += f\"    \\caption{{{caption}}}\\n\"\n",
    "    table += f\"    \\label{{{label}}}\\n\"\n",
    "    table += f\"\\end{{table}}\\n\"\n",
    "    return table\n"
   ]
  },
  {
   "cell_type": "code",
   "execution_count": 14,
   "metadata": {},
   "outputs": [
    {
     "name": "stdout",
     "output_type": "stream",
     "text": [
      "\\begin{table}[h!]\n",
      "    \\centering\n",
      "    \\begin{adjustbox}{max width=\\textwidth}\n",
      "    \\begin{tabular}{ c  c  c  c  c  c }\n",
      "    \\toprule\n",
      "    Threshold & 0.25 & 0.4 & 0.5 & 0.6 & 0.75 \\\\\n",
      "    \\midrule\n",
      "    Micro-F1 & 0.6098 & 0.5798 & 0.561 & 0.532 & 0.4756 \\\\\n",
      "    Micro-Recall & 0.6048 & 0.5006 & 0.4534 & 0.4075 & 0.3346 \\\\\n",
      "    Micro-Precision & 0.615 & 0.6889 & 0.7356 & 0.7661 & 0.8223 \\\\\n",
      "    Macro-F1 & 0.6135 & 0.5807 & 0.5603 & 0.5311 & 0.4719 \\\\\n",
      "    Macro-Recall & 0.6057 & 0.4999 & 0.4517 & 0.407 & 0.3328 \\\\\n",
      "    Macro-Precision & 0.6214 & 0.6926 & 0.7374 & 0.7641 & 0.8109 \\\\\n",
      "    Subset Accuracy & 46.643\\% & 46.463\\% & 46.283\\% & 44.724\\% & 40.947\\% \\\\\n",
      "    Hamming Loss & 0.0841 & 0.0789 & 0.0771 & 0.0779 & 0.0802 \\\\\n",
      "    \\bottomrule\n",
      "    \\end{tabular}\n",
      "    \\end{adjustbox}\n",
      "    \\caption{caption}\n",
      "    \\label{label}\n",
      "\\end{table}\n",
      "\n"
     ]
    }
   ],
   "source": [
    "#0.25 threshold, 0.4 threshold, 0.5 threshold, 0.6 threshold, 0.75 threshold\n",
    "df_raw = pd.read_csv('filepath')\n",
    "df_column = df_raw.columns.values.tolist()\n",
    "df = df_raw.values.tolist()\n",
    "df = [[round(float(x),4) if isfloat(x) else x.replace('%','\\%') for x in row] for row in df ]\n",
    "# df = [[x if isfloat(x) else round(x,4) for x in row] for row in df ]\n",
    "print(latexify(data=df,column_names=df_column,adjust_box=True,rotate=False,caption=\"caption\",label=\"label\"))"
   ]
  }
 ],
 "metadata": {
  "interpreter": {
   "hash": "4575c77ff00843b02a50aa925fe8aa825e71102c87550a1a72699ac91e46932f"
  },
  "kernelspec": {
   "display_name": "Python 3.8.8 ('base')",
   "language": "python",
   "name": "python3"
  },
  "language_info": {
   "codemirror_mode": {
    "name": "ipython",
    "version": 3
   },
   "file_extension": ".py",
   "mimetype": "text/x-python",
   "name": "python",
   "nbconvert_exporter": "python",
   "pygments_lexer": "ipython3",
   "version": "3.8.8"
  },
  "orig_nbformat": 4
 },
 "nbformat": 4,
 "nbformat_minor": 2
}
