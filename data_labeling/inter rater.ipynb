{
 "cells": [
  {
   "cell_type": "markdown",
   "id": "085d8b13",
   "metadata": {},
   "source": [
    "# Inter rater Reliability"
   ]
  },
  {
   "cell_type": "code",
   "execution_count": 56,
   "id": "6fa70fc4",
   "metadata": {},
   "outputs": [],
   "source": [
    "import openpyxl\n",
    "from openpyxl import Workbook, load_workbook"
   ]
  },
  {
   "cell_type": "code",
   "execution_count": 57,
   "id": "f9693551",
   "metadata": {},
   "outputs": [],
   "source": [
    "# append labels to a data dictionary\n",
    "# def append_labels(algo, data):\n",
    "#     for row in range(2,1000):\n",
    "#         if algo.cell(row,2).value is None:\n",
    "#             break\n",
    "#         data[algo.cell(row,2).value] = {}\n",
    "#         hasLabel = 0\n",
    "#         for col in range(3,13):\n",
    "#             if col < 12:\n",
    "#                 cell_value_class = algo.cell(1,col).value\n",
    "#                 cell_value_id = algo.cell(row,col).value\n",
    "                \n",
    "#                 if cell_value_id == 1:\n",
    "#                     hasLabel = 1\n",
    "#             else:\n",
    "#                 cell_value_class = \"NONE\"\n",
    "#                 if hasLabel == 0:\n",
    "#                     cell_value_id = 1\n",
    "#                 else:\n",
    "#                     cell_value_id = 0\n",
    "                \n",
    "#             data[algo.cell(row,2).value].update({cell_value_class:cell_value_id})\n",
    "\n",
    "def append_labels(algo, data):\n",
    "    for row in range(2,1000):\n",
    "        if algo.cell(row,2).value is None:\n",
    "            break\n",
    "        data[algo.cell(row,2).value] = {}\n",
    "        for col in range(3,12):\n",
    "            cell_value_class = algo.cell(1,col).value\n",
    "            cell_value_id = algo.cell(row,col).value\n",
    "            data[algo.cell(row,2).value].update({cell_value_class:cell_value_id})\n"
   ]
  },
  {
   "cell_type": "code",
   "execution_count": 58,
   "id": "5482226f",
   "metadata": {},
   "outputs": [
    {
     "name": "stdout",
     "output_type": "stream",
     "text": [
      "{'Quicksort': 0, 'Mergesort': 0, 'Selectionsort': 0, 'Insertionsort': 0, 'Bubblesort': 0, 'Linear search': 0, 'Binary Search': 0, 'Linked List': 0, 'Hashmap': 0}\n",
      "\n",
      "Data count: 1319\n"
     ]
    }
   ],
   "source": [
    "# John\n",
    "\n",
    "hashmap = load_workbook('labels/john/Hash-Map.xlsx')\n",
    "linkedlist = load_workbook('labels/john/Linked-List.xlsx')\n",
    "binarysearch = load_workbook('labels/john/Search-Binary.xlsx')\n",
    "linearsearch = load_workbook('labels/john/Search-Linear.xlsx')\n",
    "bubblesort = load_workbook('labels/john/Sort-Bubble.xlsx')\n",
    "insertionsort = load_workbook('labels/john/Sort-Insertion.xlsx')\n",
    "mergesort = load_workbook('labels/john/Sort-Merge.xlsx')\n",
    "quicksort = load_workbook('labels/john/Sort-Quick.xlsx')\n",
    "selectionsort = load_workbook('labels/john/Sort-Selection.xlsx')\n",
    "others = load_workbook('labels/john/Sort-zOthers.xlsx')\n",
    "\n",
    "hashmapWS = hashmap.active\n",
    "linkedlistWS = linkedlist.active\n",
    "binarysearchWS = binarysearch.active\n",
    "linearsearchWS = linearsearch.active\n",
    "bubblesortWS = bubblesort.active\n",
    "insertionsortWS = insertionsort.active\n",
    "mergesortWS = mergesort.active\n",
    "quicksortWS = quicksort.active\n",
    "selectionsortWS = selectionsort.active\n",
    "othersWS = others.active\n",
    "\n",
    "john = {}\n",
    "\n",
    "append_labels(hashmapWS,john)\n",
    "append_labels(linkedlistWS,john)\n",
    "append_labels(binarysearchWS,john)        \n",
    "append_labels(linearsearchWS,john)\n",
    "append_labels(bubblesortWS,john)\n",
    "append_labels(insertionsortWS,john)\n",
    "append_labels(mergesortWS,john)\n",
    "append_labels(quicksortWS,john)\n",
    "append_labels(selectionsortWS,john)\n",
    "append_labels(othersWS,john)\n",
    "\n",
    "print(john['AbstractMap (2).java'])\n",
    "\n",
    "counter = 0\n",
    "for x in john:\n",
    "    counter += 1\n",
    "print(\"\\nData count:\",counter) \n"
   ]
  },
  {
   "cell_type": "code",
   "execution_count": 59,
   "id": "6d1e83e8",
   "metadata": {},
   "outputs": [
    {
     "name": "stdout",
     "output_type": "stream",
     "text": [
      "{'Quicksort': 0, 'Mergesort': 0, 'Selectionsort': 0, 'Insertionsort': 0, 'Bubblesort': 0, 'Linear search': 0, 'Binary Search': 0, 'Linked List': 0, 'Hashmap': 1}\n",
      "\n",
      "Data count: 1319\n"
     ]
    }
   ],
   "source": [
    "# Gerd\n",
    "gerd = {}\n",
    "\n",
    "hashmap = load_workbook('labels/gerd/Hash-Map.xlsx')\n",
    "linkedlist = load_workbook('labels/gerd/Linked-List.xlsx')\n",
    "binarysearch = load_workbook('labels/gerd/Search-Binary.xlsx')\n",
    "linearsearch = load_workbook('labels/gerd/Search-Linear.xlsx')\n",
    "bubblesort = load_workbook('labels/gerd/Sort-Bubble.xlsx')\n",
    "insertionsort = load_workbook('labels/gerd/Sort-Insertion.xlsx')\n",
    "mergesort = load_workbook('labels/gerd/Sort-Merge.xlsx')\n",
    "quicksort = load_workbook('labels/gerd/Sort-Quick.xlsx')\n",
    "selectionsort = load_workbook('labels/gerd/Sort-Selection.xlsx')\n",
    "others = load_workbook('labels/gerd/Sort-zOthers.xlsx')\n",
    "\n",
    "hashmapWS = hashmap.active\n",
    "linkedlistWS = linkedlist.active\n",
    "binarysearchWS = binarysearch.active\n",
    "linearsearchWS = linearsearch.active\n",
    "bubblesortWS = bubblesort.active\n",
    "insertionsortWS = insertionsort.active\n",
    "mergesortWS = mergesort.active\n",
    "quicksortWS = quicksort.active\n",
    "selectionsortWS = selectionsort.active\n",
    "othersWS = others.active\n",
    "\n",
    "append_labels(hashmapWS,gerd)\n",
    "append_labels(linkedlistWS,gerd)\n",
    "append_labels(binarysearchWS,gerd)        \n",
    "append_labels(linearsearchWS,gerd)\n",
    "append_labels(bubblesortWS,gerd)\n",
    "append_labels(insertionsortWS,gerd)\n",
    "append_labels(mergesortWS,gerd)\n",
    "append_labels(quicksortWS,gerd)\n",
    "append_labels(selectionsortWS,gerd)\n",
    "append_labels(othersWS,gerd)\n",
    "\n",
    "print(gerd['AbstractMap (2).java'])\n",
    "\n",
    "counter = 0\n",
    "for x in gerd:\n",
    "    counter += 1\n",
    "print(\"\\nData count:\",counter) \n"
   ]
  },
  {
   "cell_type": "code",
   "execution_count": 60,
   "id": "b2def7ad",
   "metadata": {
    "scrolled": false
   },
   "outputs": [
    {
     "name": "stdout",
     "output_type": "stream",
     "text": [
      "{'Quicksort': None, 'Mergesort': None, 'Selectionsort': None, 'Insertionsort': None, 'Bubblesort': None, 'Linear search': None, 'Binary Search': None, 'Linked List': None, 'Hashmap': None}\n",
      "\n",
      "Data count: 1686\n"
     ]
    }
   ],
   "source": [
    "# Karl\n",
    "karl = {}\n",
    "\n",
    "hashmap = load_workbook('labels/karl/Hash-Map.xlsx')\n",
    "linkedlist = load_workbook('labels/karl/Linked-List.xlsx')\n",
    "binarysearch = load_workbook('labels/karl/Search-Binary.xlsx')\n",
    "linearsearch = load_workbook('labels/karl/Search-Linear.xlsx')\n",
    "bubblesort = load_workbook('labels/karl/Sort-Bubble.xlsx')\n",
    "insertionsort = load_workbook('labels/karl/Sort-Insertion.xlsx')\n",
    "mergesort = load_workbook('labels/karl/Sort-Merge.xlsx')\n",
    "quicksort = load_workbook('labels/karl/Sort-Quick.xlsx')\n",
    "selectionsort = load_workbook('labels/karl/Sort-Selection.xlsx')\n",
    "others = load_workbook('labels/karl/Sort-zOthers.xlsx')\n",
    "\n",
    "hashmapWS = hashmap.active\n",
    "linkedlistWS = linkedlist.active\n",
    "binarysearchWS = binarysearch.active\n",
    "linearsearchWS = linearsearch.active\n",
    "bubblesortWS = bubblesort.active\n",
    "insertionsortWS = insertionsort.active\n",
    "mergesortWS = mergesort.active\n",
    "quicksortWS = quicksort.active\n",
    "selectionsortWS = selectionsort.active\n",
    "othersWS = others.active\n",
    "\n",
    "append_labels(hashmapWS,karl)\n",
    "append_labels(linkedlistWS,karl)\n",
    "append_labels(binarysearchWS,karl)        \n",
    "append_labels(linearsearchWS,karl)\n",
    "append_labels(bubblesortWS,karl)\n",
    "append_labels(insertionsortWS,karl)\n",
    "append_labels(mergesortWS,karl)\n",
    "append_labels(quicksortWS,karl)\n",
    "append_labels(selectionsortWS,karl)\n",
    "append_labels(othersWS,karl)\n",
    "\n",
    "print(karl['AbstractMap (2).java'])\n",
    "\n",
    "counter = 0\n",
    "for x in karl:\n",
    "    counter += 1\n",
    "print(\"\\nData count:\",counter) \n"
   ]
  },
  {
   "cell_type": "markdown",
   "id": "ac8eb2b9",
   "metadata": {},
   "source": [
    "# New Dataset\n",
    "\n",
    "Separate new and old data to avoid collision in filenames"
   ]
  },
  {
   "cell_type": "code",
   "execution_count": 61,
   "id": "b0a0afec",
   "metadata": {},
   "outputs": [
    {
     "name": "stdout",
     "output_type": "stream",
     "text": [
      "{'Quicksort': 0, 'Mergesort': 0, 'Selectionsort': 0, 'Insertionsort': 0, 'Bubblesort': 0, 'Linear search': 0, 'Binary Search': 0, 'Linked List': 0, 'Hashmap': 0}\n",
      "\n",
      "Data count: 511\n"
     ]
    }
   ],
   "source": [
    "# John\n",
    "\n",
    "john_new={}\n",
    "\n",
    "\n",
    "hashmap = load_workbook('for new data/labels/john/Hash-Map.xlsx')\n",
    "linkedlist = load_workbook('for new data/labels/john/Linked-List.xlsx')\n",
    "binarysearch = load_workbook('for new data/labels/john/Search-Binary.xlsx')\n",
    "linearsearch = load_workbook('for new data/labels/john/Search-Linear.xlsx')\n",
    "bubblesort = load_workbook('for new data/labels/john/Sort-Bubble.xlsx')\n",
    "insertionsort = load_workbook('for new data/labels/john/Sort-Insertion.xlsx')\n",
    "mergesort = load_workbook('for new data/labels/john/Sort-Merge.xlsx')\n",
    "quicksort = load_workbook('for new data/labels/john/Sort-Quick.xlsx')\n",
    "selectionsort = load_workbook('for new data/labels/john/Sort-Selection.xlsx')\n",
    "others = load_workbook('for new data/labels/john/Sort-Other.xlsx')\n",
    "\n",
    "hashmapWS = hashmap.active\n",
    "linkedlistWS = linkedlist.active\n",
    "binarysearchWS = binarysearch.active\n",
    "linearsearchWS = linearsearch.active\n",
    "bubblesortWS = bubblesort.active\n",
    "insertionsortWS = insertionsort.active\n",
    "mergesortWS = mergesort.active\n",
    "quicksortWS = quicksort.active\n",
    "selectionsortWS = selectionsort.active\n",
    "othersWS = others.active\n",
    "\n",
    "append_labels(hashmapWS,john_new)\n",
    "append_labels(linkedlistWS,john_new)\n",
    "append_labels(binarysearchWS,john_new)        \n",
    "append_labels(linearsearchWS,john_new)\n",
    "append_labels(bubblesortWS,john_new)\n",
    "append_labels(insertionsortWS,john_new)\n",
    "append_labels(mergesortWS,john_new)\n",
    "append_labels(quicksortWS,john_new)\n",
    "append_labels(selectionsortWS,john_new)\n",
    "append_labels(othersWS,john_new)\n",
    "\n",
    "print(john_new['index.js'])\n",
    "\n",
    "counter = 0\n",
    "for x in john_new:\n",
    "    counter += 1\n",
    "print(\"\\nData count:\",counter) \n"
   ]
  },
  {
   "cell_type": "code",
   "execution_count": 62,
   "id": "e44f71e6",
   "metadata": {
    "scrolled": true
   },
   "outputs": [
    {
     "name": "stdout",
     "output_type": "stream",
     "text": [
      "{'Quicksort': 0, 'Mergesort': 0, 'Selectionsort': 0, 'Insertionsort': 0, 'Bubblesort': 0, 'Linear search': 0, 'Binary Search': 0, 'Linked List': 0, 'Hashmap': 0}\n",
      "\n",
      "Data count: 511\n"
     ]
    }
   ],
   "source": [
    "# Gerd\n",
    "\n",
    "hashmap = load_workbook('for new data/labels/gerd/Hash-Map.xlsx')\n",
    "linkedlist = load_workbook('for new data/labels/gerd/Linked-List.xlsx')\n",
    "binarysearch = load_workbook('for new data/labels/gerd/Search-Binary.xlsx')\n",
    "linearsearch = load_workbook('for new data/labels/gerd/Search-Linear.xlsx')\n",
    "bubblesort = load_workbook('for new data/labels/gerd/Sort-Bubble.xlsx')\n",
    "insertionsort = load_workbook('for new data/labels/gerd/Sort-Insertion.xlsx')\n",
    "mergesort = load_workbook('for new data/labels/gerd/Sort-Merge.xlsx')\n",
    "quicksort = load_workbook('for new data/labels/gerd/Sort-Quick.xlsx')\n",
    "selectionsort = load_workbook('for new data/labels/gerd/Sort-Selection.xlsx')\n",
    "others = load_workbook('for new data/labels/gerd/Sort-Other.xlsx')\n",
    "\n",
    "hashmapWS = hashmap.active\n",
    "linkedlistWS = linkedlist.active\n",
    "binarysearchWS = binarysearch.active\n",
    "linearsearchWS = linearsearch.active\n",
    "bubblesortWS = bubblesort.active\n",
    "insertionsortWS = insertionsort.active\n",
    "mergesortWS = mergesort.active\n",
    "quicksortWS = quicksort.active\n",
    "selectionsortWS = selectionsort.active\n",
    "othersWS = others.active\n",
    "\n",
    "gerd_new = {}\n",
    "\n",
    "append_labels(hashmapWS,gerd_new)\n",
    "append_labels(linkedlistWS,gerd_new)\n",
    "append_labels(binarysearchWS,gerd_new)        \n",
    "append_labels(linearsearchWS,gerd_new)\n",
    "append_labels(bubblesortWS,gerd_new)\n",
    "append_labels(insertionsortWS,gerd_new)\n",
    "append_labels(mergesortWS,gerd_new)\n",
    "append_labels(quicksortWS,gerd_new)\n",
    "append_labels(selectionsortWS,gerd_new)\n",
    "append_labels(othersWS,gerd_new)\n",
    "\n",
    "print(gerd_new['index.js'])\n",
    "\n",
    "counter = 0\n",
    "for x in gerd_new:\n",
    "    counter += 1\n",
    "print(\"\\nData count:\",counter) "
   ]
  },
  {
   "cell_type": "code",
   "execution_count": 63,
   "id": "372aea25",
   "metadata": {},
   "outputs": [
    {
     "name": "stdout",
     "output_type": "stream",
     "text": [
      "{'Quicksort': 0, 'Mergesort': 0, 'Selectionsort': 0, 'Insertionsort': 0, 'Bubblesort': 0, 'Linear search': 0, 'Binary Search': 0, 'Linked List': 0, 'Hashmap': 0}\n",
      "\n",
      "Data count: 511\n"
     ]
    }
   ],
   "source": [
    "# Karl\n",
    "karl_new = {}\n",
    "\n",
    "hashmap = load_workbook('for new data/labels/karl/Hash-Map.xlsx')\n",
    "linkedlist = load_workbook('for new data/labels/karl/Linked-List.xlsx')\n",
    "binarysearch = load_workbook('for new data/labels/karl/Search-Binary.xlsx')\n",
    "linearsearch = load_workbook('for new data/labels/karl/Search-Linear.xlsx')\n",
    "bubblesort = load_workbook('for new data/labels/karl/Sort-Bubble.xlsx')\n",
    "insertionsort = load_workbook('for new data/labels/karl/Sort-Insertion.xlsx')\n",
    "mergesort = load_workbook('for new data/labels/karl/Sort-Merge.xlsx')\n",
    "quicksort = load_workbook('for new data/labels/karl/Sort-Quick.xlsx')\n",
    "selectionsort = load_workbook('for new data/labels/karl/Sort-Selection.xlsx')\n",
    "others = load_workbook('for new data/labels/karl/Sort-Other.xlsx')\n",
    "\n",
    "hashmapWS = hashmap.active\n",
    "linkedlistWS = linkedlist.active\n",
    "binarysearchWS = binarysearch.active\n",
    "linearsearchWS = linearsearch.active\n",
    "bubblesortWS = bubblesort.active\n",
    "insertionsortWS = insertionsort.active\n",
    "mergesortWS = mergesort.active\n",
    "quicksortWS = quicksort.active\n",
    "selectionsortWS = selectionsort.active\n",
    "othersWS = others.active\n",
    "\n",
    "append_labels(hashmapWS,karl_new)\n",
    "append_labels(linkedlistWS,karl_new)\n",
    "append_labels(binarysearchWS,karl_new)        \n",
    "append_labels(linearsearchWS,karl_new)\n",
    "append_labels(bubblesortWS,karl_new)\n",
    "append_labels(insertionsortWS,karl_new)\n",
    "append_labels(mergesortWS,karl_new)\n",
    "append_labels(quicksortWS,karl_new)\n",
    "append_labels(selectionsortWS,karl_new)\n",
    "append_labels(othersWS,karl_new)\n",
    "\n",
    "print(karl_new['index.js'])\n",
    "\n",
    "counter = 0\n",
    "for x in karl_new:\n",
    "    counter += 1\n",
    "print(\"\\nData count:\",counter) "
   ]
  },
  {
   "cell_type": "markdown",
   "id": "6cd0c6f0",
   "metadata": {},
   "source": [
    "## Creating data dictionary for inter rater"
   ]
  },
  {
   "cell_type": "code",
   "execution_count": 64,
   "id": "2fbd9d30",
   "metadata": {
    "scrolled": true
   },
   "outputs": [
    {
     "name": "stdout",
     "output_type": "stream",
     "text": [
      "['BeadSort.java', 'BitonicSort (3).py', 'bogo_sort (2).py', 'bogo_sort.java', 'Bogo_Sort.py', 'BogoPermutationSort.py', 'BogoSort (2).java', 'bogoSort (2).js', 'bogosort.js', 'bucket_sort (3).py', 'bucket_sort (4).py', 'counting_sort (5).py', 'cyclesort (5).py', 'cyclesort (7).py', 'gnome_sort (2).py', 'GnomeSort (15).java', 'HeapSort (2).py', 'HeapSort (4).java', 'OddEvenSort (5).java', 'OddEvenSort (6).java', 'pancake_sort (2).py', 'pancake_sort (3).py', 'pancake_sort.py']\n"
     ]
    }
   ],
   "source": [
    "interRater = {}\n",
    "for file in john:\n",
    "    interRater[file] = {}\n",
    "    for (algo, label) in john[file].items():\n",
    "        interRater[file].update({algo:label})\n",
    "\n",
    "for file in john:\n",
    "    for (algo, label) in gerd[file].items():\n",
    "        temp = interRater[file][algo]\n",
    "        temp = temp + label\n",
    "        interRater[file][algo] = temp\n",
    "\n",
    "KE = []\n",
    "for file in john:\n",
    "    try:\n",
    "        for (algo, label) in karl[file].items():\n",
    "                if label is None:\n",
    "                    label = 0\n",
    "                temp = interRater[file][algo]\n",
    "                temp = temp + label\n",
    "                interRater[file][algo] = temp\n",
    "    except KeyError:\n",
    "        interRater.pop(file)\n",
    "        KE.append(file)\n",
    "\n",
    "#New Data set\n",
    "\n",
    "interRater_new = {}\n",
    "for file in john_new:\n",
    "    interRater_new[file] = {}\n",
    "    for (algo, label) in john_new[file].items():\n",
    "        interRater_new[file].update({algo:label})\n",
    "\n",
    "for file in john_new:\n",
    "    for (algo, label) in gerd_new[file].items():\n",
    "        temp = interRater_new[file][algo]\n",
    "        temp = temp + label\n",
    "        interRater_new[file][algo] = temp\n",
    "\n",
    "for file in john_new:\n",
    "    try:\n",
    "        for (algo, label) in karl_new[file].items():\n",
    "                if label is None:\n",
    "                    label = 0\n",
    "                temp = interRater_new[file][algo]\n",
    "                temp = temp + label\n",
    "                interRater_new[file][algo] = temp\n",
    "    except KeyError:\n",
    "        interRater_new.pop(file)\n",
    "        KE.append(file)\n",
    "\n",
    "print(KE)"
   ]
  },
  {
   "cell_type": "markdown",
   "id": "387ae453",
   "metadata": {},
   "source": [
    "## Saving files to excel file"
   ]
  },
  {
   "cell_type": "code",
   "execution_count": 66,
   "id": "60984344",
   "metadata": {},
   "outputs": [],
   "source": [
    "wb = Workbook()\n",
    "ws = wb.active\n",
    "\n",
    "headings = ['Filename'] + list(interRater['AbstractMap (2).java'].keys())\n",
    "ws.append(headings)\n",
    "\n",
    "for file in interRater:\n",
    "    accumulated = list(interRater[file].values())\n",
    "    ws.append([file] + accumulated)\n",
    "    \n",
    "#new dataset\n",
    "\n",
    "for file in interRater_new:\n",
    "    accumulated = list(interRater_new[file].values())\n",
    "    ws.append([file] + accumulated)\n",
    "    \n",
    "wb.save(\"InterRater.xlsx\")"
   ]
  },
  {
   "cell_type": "markdown",
   "id": "b2e4bacd",
   "metadata": {},
   "source": [
    "## Computing for $ P_{i} $ (proportion of agreement per row)\n",
    "\n",
    "$ P_{i} = \\frac{1}{n(n-1)} [( \\sum_{j=1}^{k} n_{ij}^{2}) - (n)] $\n",
    "\n",
    "where $n$ is the number of raters\n"
   ]
  },
  {
   "cell_type": "code",
   "execution_count": 67,
   "id": "c66c3733",
   "metadata": {},
   "outputs": [],
   "source": [
    "total_rows = len(interRater) + len(interRater_new)\n",
    "\n",
    "for row in range(2, total_rows + 2):\n",
    "    ws[\"K\" + str(row)] = f\"=(({'B' + str(row)}^2+{'C' + str(row)}^2+{'D' + str(row)}^2+{'E' + str(row)}^2+{'F' + str(row)}^2+{'G' + str(row)}^2+{'H' + str(row)}^2+{'I' + str(row)}^2+{'J' + str(row)}^2)-3)/(3*2)\"\n",
    "\n",
    "wb.save(\"InterRater.xlsx\")"
   ]
  },
  {
   "cell_type": "code",
   "execution_count": 68,
   "id": "31ab09c0",
   "metadata": {},
   "outputs": [
    {
     "name": "stdout",
     "output_type": "stream",
     "text": [
      "Number of rows of old data set:  1296\n",
      "Number of rows of new data set:  511\n",
      "Total number of rows:  1807\n"
     ]
    }
   ],
   "source": [
    "print(\"Number of rows of old data set: \", len(interRater))\n",
    "print(\"Number of rows of new data set: \", len(interRater_new))\n",
    "print(\"Total number of rows: \", total_rows)"
   ]
  },
  {
   "cell_type": "markdown",
   "id": "daa5d882",
   "metadata": {},
   "source": [
    "## Compute for $p_{j}$ (proportion of agreement per algorithm)\n",
    "\n",
    "$ p_{j} = \\frac{1}{Nn} \\sum_{i=1}^{N} n_{ij} $\n",
    "\n",
    "where $N$ is the total number of rows"
   ]
  },
  {
   "cell_type": "code",
   "execution_count": 69,
   "id": "aecb8a19",
   "metadata": {},
   "outputs": [],
   "source": [
    "from openpyxl.utils import get_column_letter\n",
    "for col in range(2, len(interRater['AbstractMap (2).java']) + 2):\n",
    "    char = get_column_letter(col)\n",
    "    ws[char + str(total_rows + 2)] = f\"=(SUM({char + '2'}:{char + str(total_rows + 1)}))/({total_rows}*3)\"\n",
    "\n",
    "wb.save(\"InterRater.xlsx\")"
   ]
  },
  {
   "cell_type": "markdown",
   "id": "61cfd9a7",
   "metadata": {},
   "source": [
    "## Compute for $\\bar{P}$\n",
    "\n",
    "$\\frac{1}{N}\\sum_{i=1}^{N}P_{i}$"
   ]
  },
  {
   "cell_type": "code",
   "execution_count": 70,
   "id": "44e7ae5d",
   "metadata": {},
   "outputs": [],
   "source": [
    "ws[\"O2\"] = \"P_bar\"\n",
    "for row in range(2, total_rows + 2):\n",
    "    ws[\"P2\"] = f\"=AVERAGE(K2:K{total_rows + 1})\"\n",
    "\n",
    "wb.save(\"InterRater.xlsx\")"
   ]
  },
  {
   "cell_type": "markdown",
   "id": "fab9f408",
   "metadata": {},
   "source": [
    "## Compute for $\\bar{P_{e}}$\n",
    "\n",
    "$\\sum_{j=1}^{k}p_{j}^{2}$"
   ]
  },
  {
   "cell_type": "code",
   "execution_count": 71,
   "id": "624846e3",
   "metadata": {},
   "outputs": [],
   "source": [
    "ws[\"O3\"] = \"Pe\"\n",
    "ws[\"P3\"] = f\"={'B' + str(total_rows + 2)}^2 + {'C' + str(total_rows + 2)}^2 + {'D' + str(total_rows + 2)}^2 + {'E' + str(total_rows + 2)}^2 + {'F' + str(total_rows + 2)}^2 + {'G' + str(total_rows + 2)}^2 + {'H' + str(total_rows + 2)}^2 + {'I' + str(total_rows + 2)}^2 + {'J' + str(total_rows + 2)}^2\"\n",
    "\n",
    "wb.save(\"InterRater.xlsx\")"
   ]
  },
  {
   "cell_type": "markdown",
   "id": "7491597f",
   "metadata": {},
   "source": [
    "## Computation of Fleiss Kappa\n",
    "\n",
    "$\\kappa = \\frac{\\bar{P} - \\bar{P_{e}}}{1 - \\bar{P_{e}}}$"
   ]
  },
  {
   "cell_type": "code",
   "execution_count": 72,
   "id": "64f58234",
   "metadata": {},
   "outputs": [],
   "source": [
    "ws[\"O5\"] = \"Fleiss Kappa\"\n",
    "ws[\"P5\"] = \"=(P2-P3)/(1-P3)\"\n",
    "\n",
    "wb.save(\"InterRater.xlsx\")"
   ]
  },
  {
   "cell_type": "markdown",
   "id": "ce8816a0",
   "metadata": {},
   "source": [
    "## Computation of Extended Kappa (for multiple category measurement)\n",
    "\n",
    "$\\kappa_{0} = \\frac{\\bar{P} - \\bar{P_{e}}}{1 - \\bar{P_{e}}} + \\frac{1-\\bar{P}}{Nm_{0}(1-\\bar{Pe})}$\n",
    "\n",
    "where $m_{0}$ is the number of observations per subject"
   ]
  },
  {
   "cell_type": "code",
   "execution_count": 73,
   "id": "63105964",
   "metadata": {},
   "outputs": [
    {
     "name": "stdout",
     "output_type": "stream",
     "text": [
      "5206\n"
     ]
    }
   ],
   "source": [
    "totalObservations = 0\n",
    "\n",
    "for row in range(2, total_rows+2):\n",
    "    for col in range(2, len(interRater['AbstractMap (2).java']) + 2):\n",
    "        char = get_column_letter(col)\n",
    "        totalObservations = totalObservations + int(ws[char + str(row)].value)\n",
    "\n",
    "print(totalObservations)\n",
    "        \n",
    "\n",
    "ws[\"O6\"] = \"Extended Kappa\"\n",
    "ws[\"P6\"] = f\"=((P2-P3)/(1-P3)) + ((1-P2)/({total_rows*totalObservations} * (1-P3)))\"\n",
    "\n",
    "from openpyxl.styles import Font\n",
    "\n",
    "ws[\"O6\"].font = Font(bold = True)\n",
    "ws[\"P6\"].font = Font(bold = True)\n",
    "\n",
    "wb.save(\"InterRater.xlsx\")"
   ]
  }
 ],
 "metadata": {
  "kernelspec": {
   "display_name": "Python 3 (ipykernel)",
   "language": "python",
   "name": "python3"
  },
  "language_info": {
   "codemirror_mode": {
    "name": "ipython",
    "version": 3
   },
   "file_extension": ".py",
   "mimetype": "text/x-python",
   "name": "python",
   "nbconvert_exporter": "python",
   "pygments_lexer": "ipython3",
   "version": "3.9.7"
  }
 },
 "nbformat": 4,
 "nbformat_minor": 5
}
