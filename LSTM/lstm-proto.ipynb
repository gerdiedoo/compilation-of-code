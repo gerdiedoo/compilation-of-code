{
 "cells": [
  {
   "cell_type": "code",
   "execution_count": 80,
   "metadata": {},
   "outputs": [],
   "source": [
    "import torch\n",
    "import torch.nn as nn\n",
    "import torch.optim as optim\n",
    "import torch.nn.functional as F\n",
    "import pytorch_lightning as pl\n",
    "\n",
    "from sklearn.metrics import roc_auc_score\n",
    "from sklearn.metrics import accuracy_score\n",
    "\n",
    "import numpy as np\n",
    "import pandas as pd\n",
    "import random\n",
    "import os\n",
    "\n",
    "from keras.preprocessing import sequence\n",
    "from keras.preprocessing.text import Tokenizer\n",
    "\n",
    "from sklearn.model_selection import train_test_split\n",
    "\n",
    "from torch.utils.data import Dataset\n",
    "from torch.utils.data import DataLoader"
   ]
  },
  {
   "cell_type": "code",
   "execution_count": 77,
   "metadata": {},
   "outputs": [
    {
     "name": "stderr",
     "output_type": "stream",
     "text": [
      "Cloning into 'lstm-data'...\n"
     ]
    }
   ],
   "source": [
    "!git clone https://github.com/gerdiedoo/lstm-data"
   ]
  },
  {
   "cell_type": "code",
   "execution_count": 76,
   "metadata": {},
   "outputs": [],
   "source": [
    "# temp_df = pd.read_csv('lstm-data\\\\all_labels.csv')\n",
    "# for i in temp_df.columns:\n",
    "#     if i == 'filename' or i == 'code':\n",
    "#         continue\n",
    "#     temp_df[['filename', 'code', i]].rename(columns={i:'target'}).to_csv(f'{i}.csv', index=False)"
   ]
  },
  {
   "cell_type": "code",
   "execution_count": 81,
   "metadata": {},
   "outputs": [
    {
     "name": "stderr",
     "output_type": "stream",
     "text": [
      "Global seed set to 1729\n"
     ]
    }
   ],
   "source": [
    "# def seed_everything(seed=42):\n",
    "#     \"\"\"\"\n",
    "#     Seed everything.\n",
    "#     \"\"\"   \n",
    "#     random.seed(seed)\n",
    "#     os.environ['PYTHONHASHSEED'] = str(seed)\n",
    "#     np.random.seed(seed)\n",
    "#     torch.manual_seed(seed)\n",
    "#     torch.cuda.manual_seed(seed)\n",
    "#     torch.cuda.manual_seed_all(seed)\n",
    "#     torch.backends.cudnn.deterministic = True\n",
    "#     pl.seed_everything(seed)\n",
    "\n",
    "# # Set the RNG\n",
    "# seed_everything(1729)"
   ]
  },
  {
   "cell_type": "code",
   "execution_count": 87,
   "metadata": {},
   "outputs": [],
   "source": [
    "class Preprocessing:\n",
    "\t\n",
    "\tdef __init__(self, max_len = 512, max_words = 10000, test_size = 0.20):\n",
    "\t\tself.data = 'lstm-data\\\\all_labels.csv'\n",
    "\t\t# self.data = 'data\\\\temp_data.csv'\n",
    "\t\tself.max_len = max_len\n",
    "\t\tself.max_words = max_words\n",
    "\t\tself.test_size = test_size\n",
    "\t\t\n",
    "\tdef load_data(self, which_label='Quicksort'):\n",
    "\t\tdf = pd.read_csv(self.data)\n",
    "\t\tdf = df[['code', which_label]].rename(columns={which_label:'target'})\n",
    "\t\t# print(len(df.to_numpy()))\n",
    "\t\t# df.drop(['id','keyword','location'], axis=1, inplace=True)\n",
    "\t\t# df.drop(['filename'], axis=1, inplace=True)\n",
    "\t\tdf = df.dropna()\n",
    "\t\t# print(len(df.to_numpy()))\n",
    "\t\tX = df['code'].values\n",
    "\t\tY = df['target'].values\n",
    "\t\t\n",
    "\t\tself.x_train, self.x_test, self.y_train, self.y_test = train_test_split(X, Y, test_size=self.test_size)\n",
    "\t\t\n",
    "\tdef prepare_tokens(self):\n",
    "\t\tself.tokens = Tokenizer(num_words=self.max_words)\n",
    "\t\tself.tokens.fit_on_texts(self.x_train)\n",
    "\n",
    "\tdef sequence_to_token(self, x):\n",
    "\t\tsequences = self.tokens.texts_to_sequences(x)\n",
    "\t\treturn sequence.pad_sequences(sequences, maxlen=self.max_len)"
   ]
  },
  {
   "cell_type": "code",
   "execution_count": 83,
   "metadata": {},
   "outputs": [],
   "source": [
    "class classifier(nn.ModuleList):\n",
    "\n",
    "\tdef __init__(self, batch_size=64, hidden_dim=128, lstm_layers=2, max_words=10000):\n",
    "\t\tsuper(classifier, self).__init__()\n",
    "\t\t\n",
    "\t\tself.batch_size = batch_size\n",
    "\t\tself.hidden_dim = hidden_dim\n",
    "\t\tself.LSTM_layers = lstm_layers\n",
    "\t\tself.input_size = max_words # embedding dimention\n",
    "\t\t\n",
    "\t\tself.dropout = nn.Dropout(0.5)\n",
    "\t\tself.embedding = nn.Embedding(self.input_size, self.hidden_dim, padding_idx=0)\n",
    "\t\tself.lstm = nn.LSTM(input_size=self.hidden_dim, hidden_size=self.hidden_dim, num_layers=self.LSTM_layers, batch_first=True)\n",
    "\t\tself.fc1 = nn.Linear(in_features=self.hidden_dim, out_features=self.hidden_dim*2)\n",
    "\t\tself.fc2 = nn.Linear(self.hidden_dim*2, 1)\n",
    "\t\t\n",
    "\tdef forward(self, x):\n",
    "\t\n",
    "\t\th = torch.zeros((self.LSTM_layers, x.size(0), self.hidden_dim))\n",
    "\t\tc = torch.zeros((self.LSTM_layers, x.size(0), self.hidden_dim))\n",
    "\t\t\n",
    "\t\ttorch.nn.init.xavier_normal_(h)\n",
    "\t\ttorch.nn.init.xavier_normal_(c)\n",
    "\n",
    "\t\tout = self.embedding(x)\n",
    "\t\tout, (hidden, cell) = self.lstm(out, (h,c))\n",
    "\t\tout = self.dropout(out)\n",
    "\t\tout = torch.relu_(self.fc1(out[:,-1,:]))\n",
    "\t\tout = self.dropout(out)\n",
    "\t\tout = torch.sigmoid(self.fc2(out))\n",
    "\n",
    "\t\treturn out"
   ]
  },
  {
   "cell_type": "code",
   "execution_count": 84,
   "metadata": {},
   "outputs": [],
   "source": [
    "class DatasetMaper(Dataset):\n",
    "\t'''\n",
    "\tHandles batches of dataset\n",
    "\t'''\n",
    "\tdef __init__(self, x, y):\n",
    "\t\tself.x = x\n",
    "\t\tself.y = y\n",
    "\t\t\n",
    "\tdef __len__(self):\n",
    "\t\treturn len(self.x)\n",
    "\t\t\n",
    "\tdef __getitem__(self, idx):\n",
    "\t\treturn self.x[idx], self.y[idx]"
   ]
  },
  {
   "cell_type": "code",
   "execution_count": 85,
   "metadata": {},
   "outputs": [],
   "source": [
    "def evaluation(model):\n",
    "\n",
    "\t\tpredictions = []\n",
    "\t\tmodel.eval()\n",
    "\t\twith torch.no_grad():\n",
    "\t\t\tfor x_batch, y_batch in loader_test:\n",
    "\t\t\t\tx = x_batch.type(torch.LongTensor)\n",
    "\t\t\t\ty = y_batch.type(torch.FloatTensor)\n",
    "\t\t\t\t\n",
    "\t\t\t\ty_pred = model(x)\n",
    "\t\t\t\tpredictions += list(y_pred.detach().numpy())\n",
    "\t\t\t\t\n",
    "\t\treturn predictions\n",
    "\t\t\t\n",
    "def calculate_accuracy(grand_truth, predictions):\n",
    "    true_positives = 0\n",
    "    true_negatives = 0\n",
    "    \n",
    "    for true, pred in zip(grand_truth, predictions):\n",
    "        if (pred > 0.5) and (true == 1):\n",
    "            true_positives += 1\n",
    "        elif (pred < 0.5) and (true == 0):\n",
    "            true_negatives += 1\n",
    "        else:\n",
    "            pass\n",
    "            \n",
    "    return (true_positives+true_negatives) / len(grand_truth)"
   ]
  },
  {
   "cell_type": "code",
   "execution_count": null,
   "metadata": {},
   "outputs": [],
   "source": [
    "# df = pd.read_csv(\"lstm-data\\\\all_labels.csv\")\n",
    "# df.columns"
   ]
  },
  {
   "cell_type": "code",
   "execution_count": 92,
   "metadata": {},
   "outputs": [],
   "source": [
    "m = classifier()\n",
    "pr = Preprocessing(test_size=0.20)\n",
    "# ['Quicksort', 'Mergesort', 'Selectionsort',\n",
    "#  'Insertionsort', 'Bubblesort', 'Linear search', 'Binary Search',\n",
    "#  'Linked List', 'Hashmap']\n",
    "pr.load_data(which_label='Binary Search')\n",
    "pr.prepare_tokens()\n",
    "raw_x_train = pr.x_train\n",
    "raw_x_test = pr.x_test\n",
    "y_train= pr.y_train\n",
    "y_test = pr.y_test\n",
    "x_train = pr.sequence_to_token(raw_x_train)\n",
    "x_test = pr.sequence_to_token(raw_x_test)\n",
    "\n",
    "\n"
   ]
  },
  {
   "cell_type": "code",
   "execution_count": 93,
   "metadata": {},
   "outputs": [
    {
     "name": "stdout",
     "output_type": "stream",
     "text": [
      "epoch = 1, loss = 3.7723281383514404, train accuracy = 0.9104788341429563, test accuracy = 0.9473684210526315\n",
      "epoch = 2, loss = 6.060606002807617, train accuracy = 0.9354614850798056, test accuracy = 0.9473684210526315\n",
      "epoch = 3, loss = 0.2953565716743469, train accuracy = 0.9104788341429563, test accuracy = 0.9473684210526315\n",
      "epoch = 4, loss = 0.2842632532119751, train accuracy = 0.9417071478140181, test accuracy = 0.9473684210526315\n",
      "epoch = 5, loss = 0.24915003776550293, train accuracy = 0.9417071478140181, test accuracy = 0.9473684210526315\n",
      "epoch = 6, loss = 0.22019147872924805, train accuracy = 0.9410131852879945, test accuracy = 0.9473684210526315\n",
      "epoch = 7, loss = 0.20812703669071198, train accuracy = 0.9417071478140181, test accuracy = 0.9473684210526315\n",
      "epoch = 8, loss = 0.21073630452156067, train accuracy = 0.9417071478140181, test accuracy = 0.9473684210526315\n",
      "epoch = 9, loss = 0.24200496077537537, train accuracy = 0.9403192227619709, test accuracy = 0.9473684210526315\n",
      "epoch = 10, loss = 0.21787883341312408, train accuracy = 0.9403192227619709, test accuracy = 0.9473684210526315\n"
     ]
    }
   ],
   "source": [
    "training_set = DatasetMaper(x_train, y_train)\n",
    "test_set = DatasetMaper(x_test, y_test)\n",
    "\n",
    "loader_training = DataLoader(training_set, batch_size=64)\n",
    "loader_test = DataLoader(test_set)\n",
    "\n",
    "optimizer = optim.RMSprop(m.parameters(), lr=0.01)\n",
    "\n",
    "for epoch in range(10):\n",
    "\tpredictions = []\n",
    "\tm.train()\n",
    "\t\n",
    "\tfor x_batch, y_batch in loader_training:\n",
    "\t\t\n",
    "\t\tx = x_batch.type(torch.LongTensor)\n",
    "\t\ty = y_batch.type(torch.FloatTensor)\n",
    "\t\ty = y.unsqueeze(-1)\n",
    "\t\ty_pred = m(x)\n",
    "\t\t\n",
    "\t\tloss = F.binary_cross_entropy(y_pred, y)\n",
    "\t\toptimizer.zero_grad()\n",
    "\t\t\n",
    "\t\tloss.backward()\n",
    "\t\t\n",
    "\t\toptimizer.step()\n",
    "\t\t\n",
    "\t\tpredictions += list(y_pred.squeeze().detach().numpy())\n",
    "\t\n",
    "\ttest_predictions = evaluation(m)\n",
    "\t\n",
    "\ttrain_accuracy = calculate_accuracy(y_train, predictions)\n",
    "\ttest_accuracy = calculate_accuracy(y_test, test_predictions)\n",
    "\t\n",
    "\tprint(f\"epoch = {epoch+1}, loss = {loss.item()}, train accuracy = {train_accuracy}, test accuracy = {test_accuracy}\") "
   ]
  }
 ],
 "metadata": {
  "interpreter": {
   "hash": "71ff442bab8febe445e6d4e1d1f88343af91d4cc8f3f45adee1a68686b57db7b"
  },
  "kernelspec": {
   "display_name": "Python 3.9.11 ('test-env')",
   "language": "python",
   "name": "python3"
  },
  "language_info": {
   "codemirror_mode": {
    "name": "ipython",
    "version": 3
   },
   "file_extension": ".py",
   "mimetype": "text/x-python",
   "name": "python",
   "nbconvert_exporter": "python",
   "pygments_lexer": "ipython3",
   "version": "3.9.11"
  },
  "orig_nbformat": 4
 },
 "nbformat": 4,
 "nbformat_minor": 2
}
